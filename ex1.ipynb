{
 "cells": [
  {
   "cell_type": "markdown",
   "metadata": {},
   "source": [
    "# Truss schematic \n",
    "<img src=\"./notbook-media/ex1.png\" style=\"display:block;margin:auto;width:40%\">"
   ]
  },
  {
   "cell_type": "markdown",
   "metadata": {},
   "source": [
    "# Import Essential Libraries"
   ]
  },
  {
   "cell_type": "code",
   "execution_count": 38,
   "metadata": {},
   "outputs": [],
   "source": [
    "import numpy as np\n",
    "import matplotlib.pyplot as plt\n",
    "from openseespy.opensees import *"
   ]
  },
  {
   "cell_type": "markdown",
   "metadata": {},
   "source": [
    "# Problem Data"
   ]
  },
  {
   "cell_type": "code",
   "execution_count": 39,
   "metadata": {},
   "outputs": [],
   "source": [
    "given_forces = [10, 10, 10]  # Forces in kips\n",
    "stress_limit = 20  # kips/in^2\n",
    "specific_weight = 0.284  # lb/in^3\n",
    "length_truss = 40 * 12  # Convert feet to inches #!1\n",
    "angles = np.arange(20, 81, 5)  # Angles from 80 to 5 degrees"
   ]
  },
  {
   "cell_type": "markdown",
   "metadata": {},
   "source": [
    "# Fanctions"
   ]
  },
  {
   "cell_type": "markdown",
   "metadata": {},
   "source": [
    "### calculate lengths\n",
    "<img src=\"./notbook-media/ex1_calculate_lengths.png\" style=\"display:block;margin:auto;width:40%\">"
   ]
  },
  {
   "cell_type": "code",
   "execution_count": 40,
   "metadata": {},
   "outputs": [],
   "source": [
    "# Function to calculate member lengths\n",
    "def calculate_lengths(theta):\n",
    "    theta_rad = np.radians(theta)\n",
    "    L_Horizontal = 10 * 12 # feet to inch\n",
    "    L_Vertical = np.tan(theta_rad) * L_Horizontal  # Length of BC in inches\n",
    "    L_Diagonal = L_Vertical / np.sin(theta_rad)  # Length of AB in inches\n",
    "    \n",
    "    return L_Diagonal, L_Vertical, L_Horizontal"
   ]
  },
  {
   "cell_type": "markdown",
   "metadata": {},
   "source": [
    "### calculate areas"
   ]
  },
  {
   "cell_type": "code",
   "execution_count": 41,
   "metadata": {},
   "outputs": [],
   "source": [
    "# Function to calculate forces and cross-sectional areas\n",
    "def calculate_areas(theta):\n",
    "    L_Diagonal, L_Vertical, L_Horizontal= calculate_lengths(theta)\n",
    "    # Assuming forces are proportional to lengths for simplicity\n",
    "    force_Diagonal = given_forces[0] * (L_Diagonal / length_truss)\n",
    "    force_Vertical = given_forces[1] * (L_Vertical / length_truss)\n",
    "    force_Horizontal = given_forces[2] * (L_Horizontal / length_truss)\n",
    "\n",
    "    \n",
    "    # Areas = Force / Stress Limit\n",
    "    area_Diagonal = force_Diagonal / stress_limit\n",
    "    area_Vertical = force_Vertical / stress_limit\n",
    "    area_Horizontal = force_Horizontal / stress_limit\n",
    "    return area_Diagonal, area_Vertical, area_Horizontal, L_Diagonal, L_Vertical, L_Horizontal"
   ]
  },
  {
   "cell_type": "markdown",
   "metadata": {},
   "source": [
    "### calculate weight"
   ]
  },
  {
   "cell_type": "code",
   "execution_count": 42,
   "metadata": {},
   "outputs": [],
   "source": [
    "# Function to calculate weight of the truss\n",
    "def calculate_weight(area_Diagonal, area_Vertical, area_Horizontal, L_Diagonal, L_Vertical, L_Horizontal):\n",
    "    weight_Diagonal = area_Diagonal * L_Diagonal * specific_weight\n",
    "    weight_Vertical = area_Vertical * L_Vertical * specific_weight\n",
    "    weight_Horizontal = area_Horizontal * L_Horizontal * specific_weight\n",
    "    total_weight = (weight_Diagonal * 4) + (weight_Vertical * 3) + (weight_Horizontal * 6)\n",
    "    return total_weight"
   ]
  },
  {
   "cell_type": "markdown",
   "metadata": {},
   "source": [
    "### analyze truss"
   ]
  },
  {
   "cell_type": "code",
   "execution_count": 43,
   "metadata": {},
   "outputs": [],
   "source": [
    "# Function to build and analyze truss in OpenSeesPy\n",
    "def analyze_truss(theta):\n",
    "    wipe()\n",
    "\n",
    "    # Node coordinates (in inches)\n",
    "    theta_rad = np.radians(theta)\n",
    "    _, L_Vertical,_ = calculate_lengths(theta)\n",
    "    node_coords = {\n",
    "        1: (0, 0),         # Node A\n",
    "        2: (10 * 12, 0),   # Node C\n",
    "        3: (20 * 12, 0),   # Node E\n",
    "        4: (30 * 12, 0),   # Node G\n",
    "        5: (40 * 12, 0),   # Node H\n",
    "        6: (30 * 12, L_Vertical),  # Node F\n",
    "        7: (20 * 12, L_Vertical), # Node D\n",
    "        8: (10 * 12, L_Vertical), # Node B\n",
    "    }\n",
    "\n",
    "    # Create model\n",
    "    model('basic', '-ndm', 2, '-ndf', 2)\n",
    "\n",
    "    # Define nodes\n",
    "    for node_id, coord in node_coords.items():\n",
    "        node(node_id, *coord)\n",
    "\n",
    "    # Define boundary conditions (supports)\n",
    "    fix(1, 1, 1)  # Node F: Fixed support\n",
    "    fix(5, 0, 1)  # Node H: Roller support\n",
    "\n",
    "    # Define materials\n",
    "    matTag = 1\n",
    "    uniaxialMaterial('Elastic', matTag, 29000)  # Elastic modulus in ksi\n",
    "\n",
    "    # Define elements (truss members)\n",
    "    element_data = [\n",
    "        (1, 1, 2),  # Member AC\n",
    "        (2, 2, 3),  # Member CE\n",
    "        (3, 3, 4),  # Member EG\n",
    "        (4, 4, 5),  # Member GH\n",
    "        (5, 5, 6),  # Member HF\n",
    "        (6, 6, 4),  # Member FG\n",
    "        (7, 6, 3),  # Member FE\n",
    "        (8, 6, 7),  # Member FD\n",
    "        (9, 7, 3),  # Member DE\n",
    "        (10, 7,8),  # Member DB\n",
    "        (11, 8, 3), # Member BE\n",
    "        (12,8,2),   # Member BC\n",
    "        (13,8,1)    # Member BF\n",
    "    ]\n",
    "\n",
    "    A_default = 1.0  # Default cross-sectional area in in^2\n",
    "    for ele_id, i, j in element_data:\n",
    "        element('Truss', ele_id, i, j, A_default, matTag)\n",
    "\n",
    "    # Define loads\n",
    "    timeSeries('Linear', 1)\n",
    "    pattern('Plain', 1, 1)\n",
    "    load(2, 0, -10)  # Load at Node C\n",
    "    load(3, 0, -10)  # Load at Node E\n",
    "    load(4, 0, -10)  # Load at Node G\n",
    "\n",
    "    # Perform analysis\n",
    "    system('BandSPD')\n",
    "    numberer('Plain')\n",
    "    constraints('Plain')\n",
    "    integrator('LoadControl', 1.0)\n",
    "    algorithm('Linear')\n",
    "    analysis('Static')\n",
    "\n",
    "    analyze(1)\n",
    "\n",
    "    # Get reactions and member forces\n",
    "    reactions = []\n",
    "    for node_id in [1, 5]:\n",
    "        rxn_x = nodeReaction(node_id, 1)\n",
    "        rxn_y = nodeReaction(node_id, 2)\n",
    "        reactions.append((rxn_x, rxn_y))\n",
    "\n",
    "    member_forces = []\n",
    "    for ele_id in range(1, len(element_data) + 1):\n",
    "        force = eleForce(ele_id)\n",
    "        member_forces.append(force)\n",
    "\n",
    "    return reactions, member_forces"
   ]
  },
  {
   "cell_type": "markdown",
   "metadata": {},
   "source": [
    "### Plot Truss"
   ]
  },
  {
   "cell_type": "code",
   "execution_count": 44,
   "metadata": {},
   "outputs": [],
   "source": [
    "# Function to plot truss\n",
    "def plot_truss(theta, member_forces):\n",
    "    _, ax = plt.subplots()\n",
    "    theta_rad = np.radians(theta)\n",
    "    L_Diagonal, L_Vertical, L_Horizontal = calculate_lengths(theta)\n",
    "\n",
    "    # Node coordinates (in inches)\n",
    "    node_coords = {\n",
    "        1: (0, 0),         # Node A\n",
    "        2: (10 * 12, 0),   # Node C\n",
    "        3: (20 * 12, 0),   # Node E\n",
    "        4: (30 * 12, 0),   # Node G\n",
    "        5: (40 * 12, 0),   # Node H\n",
    "        6: (30 * 12, L_Vertical),  # Node F\n",
    "        7: (20 * 12, L_Vertical), # Node D\n",
    "        8: (10 * 12, L_Vertical), # Node B\n",
    "    }\n",
    "\n",
    "    # Truss members\n",
    "    element_data = [\n",
    "        (1, 2),  # AC\n",
    "        (2, 3),  # CE\n",
    "        (3, 4),  # EG\n",
    "        (4, 5),  # GH\n",
    "        (5, 6),  # HF\n",
    "        (6, 4),  # FG\n",
    "        (6, 3),  # FE\n",
    "        (6, 7),  # FD\n",
    "        (7, 3),  # DE\n",
    "        (7, 8),  # DB\n",
    "        (8, 3),  # BE\n",
    "        (8, 2),  # BC\n",
    "        (8, 1)   # BF\n",
    "    ]\n",
    "\n",
    "    # Plot nodes\n",
    "    for coord in node_coords.values():\n",
    "        ax.plot(coord[0], coord[1], 'bo')\n",
    "\n",
    "    # Plot elements\n",
    "    for (i, j), force in zip(element_data, member_forces):\n",
    "        x = [node_coords[i][0], node_coords[j][0]]\n",
    "        y = [node_coords[i][1], node_coords[j][1]]\n",
    "        color = 'r' if force < 0 else 'g'  # Red for compression, green for tension\n",
    "        ax.plot(x, y, color,'b')\n",
    "\n",
    "    ax.set_aspect('equal', 'box')\n",
    "    ax.set_title(f'Truss at Theta = {theta} degrees')\n",
    "    plt.show()\n"
   ]
  },
  {
   "cell_type": "code",
   "execution_count": 45,
   "metadata": {},
   "outputs": [
    {
     "ename": "TypeError",
     "evalue": "'<' not supported between instances of 'list' and 'int'",
     "output_type": "error",
     "traceback": [
      "\u001b[1;31m---------------------------------------------------------------------------\u001b[0m",
      "\u001b[1;31mTypeError\u001b[0m                                 Traceback (most recent call last)",
      "Cell \u001b[1;32mIn[45], line 10\u001b[0m\n\u001b[0;32m      7\u001b[0m     results\u001b[38;5;241m.\u001b[39mappend((theta, weight, area_Diagonal, area_Vertical, member_forces))\n\u001b[0;32m      9\u001b[0m     \u001b[38;5;66;03m# Plot truss for the current angle\u001b[39;00m\n\u001b[1;32m---> 10\u001b[0m     \u001b[43mplot_truss\u001b[49m\u001b[43m(\u001b[49m\u001b[43mtheta\u001b[49m\u001b[43m,\u001b[49m\u001b[43m \u001b[49m\u001b[43mmember_forces\u001b[49m\u001b[43m)\u001b[49m\n\u001b[0;32m     12\u001b[0m \u001b[38;5;66;03m# Find the optimal angle\u001b[39;00m\n\u001b[0;32m     13\u001b[0m optimal_result \u001b[38;5;241m=\u001b[39m \u001b[38;5;28mmin\u001b[39m(results, key\u001b[38;5;241m=\u001b[39m\u001b[38;5;28;01mlambda\u001b[39;00m x: x[\u001b[38;5;241m1\u001b[39m])\n",
      "Cell \u001b[1;32mIn[44], line 44\u001b[0m, in \u001b[0;36mplot_truss\u001b[1;34m(theta, member_forces)\u001b[0m\n\u001b[0;32m     42\u001b[0m     x \u001b[38;5;241m=\u001b[39m [node_coords[i][\u001b[38;5;241m0\u001b[39m], node_coords[j][\u001b[38;5;241m0\u001b[39m]]\n\u001b[0;32m     43\u001b[0m     y \u001b[38;5;241m=\u001b[39m [node_coords[i][\u001b[38;5;241m1\u001b[39m], node_coords[j][\u001b[38;5;241m1\u001b[39m]]\n\u001b[1;32m---> 44\u001b[0m     color \u001b[38;5;241m=\u001b[39m \u001b[38;5;124m'\u001b[39m\u001b[38;5;124mr\u001b[39m\u001b[38;5;124m'\u001b[39m \u001b[38;5;28;01mif\u001b[39;00m \u001b[43mforce\u001b[49m\u001b[43m \u001b[49m\u001b[38;5;241;43m<\u001b[39;49m\u001b[43m \u001b[49m\u001b[38;5;241;43m0\u001b[39;49m \u001b[38;5;28;01melse\u001b[39;00m \u001b[38;5;124m'\u001b[39m\u001b[38;5;124mg\u001b[39m\u001b[38;5;124m'\u001b[39m  \u001b[38;5;66;03m# Red for compression, green for tension\u001b[39;00m\n\u001b[0;32m     45\u001b[0m     ax\u001b[38;5;241m.\u001b[39mplot(x, y, color,\u001b[38;5;124m'\u001b[39m\u001b[38;5;124mb\u001b[39m\u001b[38;5;124m'\u001b[39m)\n\u001b[0;32m     47\u001b[0m ax\u001b[38;5;241m.\u001b[39mset_aspect(\u001b[38;5;124m'\u001b[39m\u001b[38;5;124mequal\u001b[39m\u001b[38;5;124m'\u001b[39m, \u001b[38;5;124m'\u001b[39m\u001b[38;5;124mbox\u001b[39m\u001b[38;5;124m'\u001b[39m)\n",
      "\u001b[1;31mTypeError\u001b[0m: '<' not supported between instances of 'list' and 'int'"
     ]
    },
    {
     "data": {
      "image/png": "[encoded data removed]",
      "text/plain": [
       "<Figure size 640x480 with 1 Axes>"
      ]
     },
     "metadata": {},
     "output_type": "display_data"
    }
   ],
   "source": [
    "# Optimization loop\n",
    "results = []\n",
    "for theta in angles:\n",
    "    area_Diagonal, area_Vertical, area_Horizontal, L_Diagonal, L_Vertical, L_Horizontal = calculate_areas(theta)\n",
    "    weight = calculate_weight(area_Diagonal, area_Vertical, area_Horizontal, L_Diagonal, L_Vertical, L_Horizontal)\n",
    "    reactions, member_forces = analyze_truss(theta)\n",
    "    results.append((theta, weight, area_Diagonal, area_Vertical, member_forces))\n",
    "\n",
    "    # Plot truss for the current angle\n",
    "    plot_truss(theta, member_forces)\n",
    "\n",
    "# Find the optimal angle\n",
    "optimal_result = min(results, key=lambda x: x[1])\n",
    "optimal_theta = optimal_result[0]\n",
    "optimal_weight = optimal_result[1]\n",
    "\n",
    "# Output results\n",
    "print(\"Angle (Theta) | Weight (lb) | Area_AB (in^2) | Area_BC (in^2)\")\n",
    "for result in results:\n",
    "    print(f\"{result[0]:<14} | {result[1]:<11.2f} | {result[2]:<13.4f} | {result[3]:<13.4f}\")\n",
    "\n",
    "print(\"\\nOptimal Angle:\", optimal_theta, \"degrees\")\n",
    "print(\"Minimum Weight:\", optimal_weight, \"lb\")\n"
   ]
  },
  {
   "cell_type": "markdown",
   "metadata": {},
   "source": [
    "# coordinates of Nodes and Members "
   ]
  },
  {
   "cell_type": "markdown",
   "metadata": {},
   "source": [
    "\n",
    "nodes = np.array([[0, 0], [10, 0], [20, 0], [30, 0], [40, 0], [30,20], [20, 20], [10,20]])\n",
    "members = np.array([[1, 2],[2, 3],[5, 6],[6, 7],[1, 8],[2, 8],[3, 7],[3, 8],[4, 6],[3, 6],[7, 8],[3, 4],[4, 5]])"
   ]
  },
  {
   "cell_type": "markdown",
   "metadata": {},
   "source": [
    "fig = plt.figure()\n",
    "axes = fig.add_axes([0.1,0.1,3,3])\n",
    "fig.gca().set_aspect('equal', adjustable='box')\n",
    "\n",
    "#Plot members\n",
    "for mbr in members:\n",
    "    node_i = mbr[0] #Node number for node i of this member\n",
    "    node_j = mbr[1] #Node number for node j of this member\n",
    "\n",
    "    ix = nodes[node_i-1,0] #x-coord of node i of this member\n",
    "    iy = nodes[node_i-1,1] #y-coord of node i of this member\n",
    "    jx = nodes[node_j-1,0] #x-coord of node j of this member\n",
    "    jy = nodes[node_j-1,1] #y-coord of node j of this member\n",
    "\n",
    "    axes.plot([ix,jx],[iy,jy],'b') #Member\n",
    "\n",
    "#Plot nodes\n",
    "for n in nodes:\n",
    "    axes.plot([n[0]],[n[1]],'bo')\n",
    "\n",
    "axes.set_xlabel('Distance (m)')\n",
    "axes.set_ylabel('Distance (m)')\n",
    "axes.set_title('Structure to analyse')\n",
    "axes.grid()\n",
    "plt.show()"
   ]
  }
 ],
 "metadata": {
  "kernelspec": {
   "display_name": "Python (myenv)",
   "language": "python",
   "name": "myenv"
  },
  "language_info": {
   "codemirror_mode": {
    "name": "ipython",
    "version": 3
   },
   "file_extension": ".py",
   "mimetype": "text/x-python",
   "name": "python",
   "nbconvert_exporter": "python",
   "pygments_lexer": "ipython3",
   "version": "3.12.1"
  }
 },
 "nbformat": 4,
 "nbformat_minor": 4
}
