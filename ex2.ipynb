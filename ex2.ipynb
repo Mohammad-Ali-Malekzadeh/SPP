{
 "cells": [
  {
   "cell_type": "code",
   "execution_count": 3,
   "metadata": {},
   "outputs": [
    {
     "name": "stdout",
     "output_type": "stream",
     "text": [
      "Angle (degrees) | Reaction at A (N) | Force in AC (N)\n",
      "0               | -2500.00          | -2500.00     \n",
      "10              | -2462.02          | -2500.00     \n",
      "20              | -2349.23          | -2500.00     \n",
      "30              | -2165.06          | -2500.00     \n",
      "40              | -1915.11          | -2500.00     \n",
      "50              | -1606.97          | -2500.00     \n",
      "60              | -1250.00          | -2500.00     \n",
      "70              | -855.05           | -2500.00     \n",
      "80              | -434.12           | -2500.00     \n",
      "90              | -0.00             | -2500.00     \n",
      "100             | 434.12            | -2500.00     \n",
      "110             | 855.05            | -2500.00     \n",
      "120             | 1250.00           | -2500.00     \n"
     ]
    }
   ],
   "source": [
    "import numpy as np\n",
    "\n",
    "# Constants\n",
    "L = 250  # Length of the members (mm)\n",
    "F_external = 2.5  # External moment applied at point B (N·m)\n",
    "\n",
    "# Convert units to SI\n",
    "L = L / 1000  # Convert mm to m\n",
    "F_external = F_external * 1000  # Convert N·m to N·mm\n",
    "\n",
    "# Angles in degrees\n",
    "angles = np.arange(0, 121, 10)  # Angle u from 0 to 120 degrees\n",
    "\n",
    "# Initialize results list\n",
    "results = []\n",
    "for angle_u in angles:\n",
    "    # Calculate coordinates of point C\n",
    "    angle_u_rad = np.radians(angle_u)\n",
    "    x_C = L * np.cos(angle_u_rad)\n",
    "    y_C = L * np.sin(angle_u_rad)\n",
    "\n",
    "    # Geometry and loading calculations\n",
    "    reaction_A = -F_external * x_C / L\n",
    "    force_AC = reaction_A / np.cos(angle_u_rad)\n",
    "\n",
    "    # Store results\n",
    "    results.append((angle_u, reaction_A, force_AC))\n",
    "\n",
    "# Extract results for output\n",
    "angles_deg = [res[0] for res in results]\n",
    "reactions_A = [res[1] for res in results]\n",
    "forces_AC = [res[2] for res in results]\n",
    "\n",
    "# Display results\n",
    "print(\"Angle (degrees) | Reaction at A (N) | Force in AC (N)\")\n",
    "for angle, reaction, force in results:\n",
    "    print(f\"{angle:<15} | {reaction:<17.2f} | {force:<13.2f}\")\n"
   ]
  }
 ],
 "metadata": {
  "kernelspec": {
   "display_name": "Python 3",
   "language": "python",
   "name": "python3"
  },
  "language_info": {
   "codemirror_mode": {
    "name": "ipython",
    "version": 3
   },
   "file_extension": ".py",
   "mimetype": "text/x-python",
   "name": "python",
   "nbconvert_exporter": "python",
   "pygments_lexer": "ipython3",
   "version": "3.12.1"
  }
 },
 "nbformat": 4,
 "nbformat_minor": 4
}
